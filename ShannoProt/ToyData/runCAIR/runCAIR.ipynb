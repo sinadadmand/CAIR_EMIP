{
 "cells": [
  {
   "cell_type": "markdown",
   "metadata": {},
   "source": [
    "# runCAIR"
   ]
  },
  {
   "cell_type": "markdown",
   "metadata": {},
   "source": [
    "Importing functions from CAIR codes"
   ]
  },
  {
   "cell_type": "code",
   "execution_count": null,
   "metadata": {},
   "outputs": [],
   "source": [
    "import import_ipynb\n",
    "from Calc_Entries_CAIR import fasta_to_entry_cair\n",
    "from Calc_Proteomes_CAIR import *"
   ]
  },
  {
   "cell_type": "markdown",
   "metadata": {},
   "source": [
    "#### Executing the whole CAIR project"
   ]
  },
  {
   "cell_type": "markdown",
   "metadata": {},
   "source": [
    "* Calculating Entry CAIRs\n",
    "##### Swiss-Prot and TrEMBL FASTA files from UniProt website:\n",
    ">* ftp://ftp.uniprot.org/pub/databases/uniprot/current_release/knowledgebase/complete/uniprot_sprot.fasta.gz\n",
    ">* ftp://ftp.uniprot.org/pub/databases/uniprot/current_release/knowledgebase/complete/uniprot_trembl.fasta.gz\n",
    "\n",
    ">###### *** Downloaded files should be inserted into fasta_to_entry_cair function (all code and data files in the same directory)"
   ]
  },
  {
   "cell_type": "code",
   "execution_count": null,
   "metadata": {},
   "outputs": [],
   "source": [
    "fasta_to_entry_cair(\"Arabidopsis+thaliana_sprot.fasta\", \"Entries sprot.csv\")  # requires the sprot.fasta input file and the output file name\n",
    "fasta_to_entry_cair(\"Arabidopsis+thaliana_trembl.fasta\", \"Entries trembl.csv\")  # requires the trembl.fasta input file and the output file name"
   ]
  },
  {
   "cell_type": "markdown",
   "metadata": {},
   "source": [
    "* Summation of residues for each species\n",
    "\n",
    "      Inputs for entry_to_species function: (sprot_input_file='Entries sprot.csv', trembl_input_file='Entries trembl.csv',\n",
    "                     outfile='All species residues.csv', chunksize=8000000, merge='True')\n",
    "\n",
    "      Parameters\n",
    "      ----------\n",
    "      sprot_input_file      str, default 'Entries sprot.csv'\n",
    "                            CSV file of calculated CAIRs for Swiss-Prot Entries (output of the fasta_to_entry_cair function)\n",
    "      trembl_input_file     str, default 'Entries trembl.csv'\n",
    "                            CSV file of calculated CAIRs for TrEMBL Entries (output of the fasta_to_entry_cair function)\n",
    "      outfile               str, default 'All species residues.csv'\n",
    "                            name of the output CSV file\n",
    "      chunksize             int, default 8000000\n",
    "                            the same as the chunnksize in pandas read_csv function for iteration of data reading process\n",
    "                            should not exceed RAM memory storage\n",
    "                            recommended chunksize = RAM capacity (in kilobytes)\n",
    "      merge                 bool, default True\n",
    "                            merges two input files if True\n"
   ]
  },
  {
   "cell_type": "code",
   "execution_count": null,
   "metadata": {},
   "outputs": [],
   "source": [
    "entry_to_species()  # insert entries input file and the output file name"
   ]
  },
  {
   "cell_type": "markdown",
   "metadata": {},
   "source": [
    "* Calculating Proteomes CAIRs\n",
    "##### Non-redundant proteomes TAB file from UniProt website:\n",
    ">* https://www.uniprot.org/proteomes/?query=redundant:no&format=tab&force=true&columns=id,name,organism-id,lineage&compress=yes\n",
    "\n",
    "      Inputs for species_cair function: (input_file='All species residues.csv', outfile='Complete proteome CAIRs.csv', proteomes_file='proteomes-redundant-no.tab')\n",
    "                                    \n",
    "      Parameters\n",
    "      ----------\n",
    "      input_file            str, default 'All species residues.csv'\n",
    "                            CSV file of summed up residues for species (output of the entry_to_species function)\n",
    "      outfile               str, default 'Complete proteome CAIRs.csv'\n",
    "                            name of the output CSV file\n",
    "      proteomes_file        str, default 'proteomes-redundant-no.tab'\n",
    "                            a file containing proteomes and taxonomic lineages"
   ]
  },
  {
   "cell_type": "code",
   "execution_count": null,
   "metadata": {},
   "outputs": [],
   "source": [
    "species_cair()  # insert species file and the output file name"
   ]
  }
 ],
 "metadata": {
  "kernelspec": {
   "display_name": "Python 3",
   "language": "python",
   "name": "python3"
  },
  "language_info": {
   "codemirror_mode": {
    "name": "ipython",
    "version": 3
   },
   "file_extension": ".py",
   "mimetype": "text/x-python",
   "name": "python",
   "nbconvert_exporter": "python",
   "pygments_lexer": "ipython3",
   "version": "3.7.3"
  }
 },
 "nbformat": 4,
 "nbformat_minor": 4
}

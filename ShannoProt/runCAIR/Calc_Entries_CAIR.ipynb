{
 "cells": [
  {
   "cell_type": "markdown",
   "metadata": {},
   "source": [
    "## Calculating Entries CAIR\n",
    "* This module is for reading a FASTA-format file and calculating the CAIR for each UniProt Entry.\n",
    "* The output CSV-format file would be each Entry followed by its Organism ID, CAIR, and residue frequencies.\n"
   ]
  },
  {
   "cell_type": "code",
   "execution_count": 4,
   "metadata": {},
   "outputs": [],
   "source": [
    "from numpy import log2\n",
    "from numpy.core import float32\n",
    "from Bio import SeqIO # requires biopython package"
   ]
  },
  {
   "cell_type": "code",
   "execution_count": 3,
   "metadata": {},
   "outputs": [],
   "source": [
    "def fasta_to_entry_cair(infile, outfile): # refer to runCAIR\n",
    "    header = \"Entry,Organism_ID,CAIR,Len,A,C,D,E,F,G,H,I,K,L,M,N,O,P,Q,R,S,T,U,V,W,Y\\n\"  # output file header\n",
    "    with open(outfile, \"w\") as filewrite:\n",
    "        filewrite.write(header)  # write header\n",
    "        for record in SeqIO.parse(infile, \"fasta\"):  # input Fasta file\n",
    "            firstchEntry = record.id.index(\"|\", 1)  # export Entry from Fasta\n",
    "            lastchEntry = record.id.index(\"|\", 5)  # export Entry from Fasta\n",
    "            firstchOrg = record.description.index(\" OX=\", -170)  # export Organism ID from Fasta\n",
    "            lastchOrg = record.description.index(\" \", firstchOrg + 5)  # export Organism ID from Fasta\n",
    "            Organism_ID = record.description[firstchOrg + 4:lastchOrg]  # write Organism to file\n",
    "            Entry = record.id[firstchEntry + 1:lastchEntry]  # write Entry to file\n",
    "            Sequence = record.seq  # write Sequence to file\n",
    "            \n",
    "            A = (Sequence.count(\"A\"))  # count A string in Sequence\n",
    "            C = (Sequence.count(\"C\"))  # count C string in Sequence\n",
    "            D = (Sequence.count(\"D\") + (Sequence.count(\"B\") / 2))  # count D string in Sequence\n",
    "            #(Since B residue is either D or N, half of its frequency has been added here)\n",
    "            E = (Sequence.count(\"E\") + (Sequence.count(\"Z\") / 2))  # count E string in Sequence\n",
    "            #(Since Z residue is either E or Q, half of its frequency has been added here)\n",
    "            F = (Sequence.count(\"F\"))  # count F string in Sequence\n",
    "            G = (Sequence.count(\"G\"))  # count G string in Sequence\n",
    "            H = (Sequence.count(\"H\"))  # count H string in Sequence\n",
    "            I = (Sequence.count(\"I\") + (Sequence.count(\"J\") / 2))  # count I string in Sequence\n",
    "            #(Since J residue is either I or L, half of its frequency has been added here)\n",
    "            K = (Sequence.count(\"K\"))  # count K string in Sequence\n",
    "            L = (Sequence.count(\"L\") + (Sequence.count(\"J\") / 2))  # count L string in Sequence\n",
    "            #(Since J residue is either I or L, half of its frequency has been added here)\n",
    "            M = (Sequence.count(\"M\"))  # count M string in Sequence\n",
    "            N = (Sequence.count(\"N\") + (Sequence.count(\"B\") / 2))  # count N string in Sequence\n",
    "            #(Since B residue is either D or N, half of its frequency has been added here)\n",
    "            O = (Sequence.count(\"O\"))  # count O string in Sequence\n",
    "            P = (Sequence.count(\"P\"))  # count P string in Sequence\n",
    "            Q = (Sequence.count(\"Q\") + (Sequence.count(\"Z\") / 2))  # count Q string in Sequence\n",
    "            #(Since Z residue is either E or Q, half of its frequency has been added here)\n",
    "            R = (Sequence.count(\"R\"))  # count R string in Sequence\n",
    "            S = (Sequence.count(\"S\"))  # count S string in Sequence\n",
    "            T = (Sequence.count(\"T\"))  # count T string in Sequence\n",
    "            U = (Sequence.count(\"U\"))  # count U string in Sequence\n",
    "            V = (Sequence.count(\"V\"))  # count V string in Sequence\n",
    "            W = (Sequence.count(\"W\"))  # count W string in Sequence\n",
    "            Y = (Sequence.count(\"Y\"))  # count Y string in Sequence\n",
    "\n",
    "            length = int(A + C + D + E + F + G + H + I + K + L + M + N + O + P + Q + R + S + T + U + V + W + Y)  # sequence length\n",
    "\n",
    "            cair = float32((  # calculate CAIR\n",
    "                log2((A / length) ** (-A / length)) + log2((C / length) ** (-C / length)) + log2(\n",
    "                    (D / length) ** (-D / length)) + log2(\n",
    "                    (E / length) ** (-E / length)) + log2((F / length) ** (-F / length)) + log2(\n",
    "                    (G / length) ** (-G / length)) + log2(\n",
    "                    (H / length) ** (-H / length)) + log2((I / length) ** (-I / length)) + log2(\n",
    "                    (K / length) ** (-K / length)) + log2(\n",
    "                    (L / length) ** (-L / length)) + log2((M / length) ** (-M / length)) + log2(\n",
    "                    (N / length) ** (-N / length)) + log2(\n",
    "                    (O / length) ** (-O / length)) + log2((P / length) ** (-P / length)) + log2(\n",
    "                    (Q / length) ** (-Q / length)) + log2(\n",
    "                    (R / length) ** (-R / length)) + log2((S / length) ** (-S / length)) + log2(\n",
    "                    (T / length) ** (-T / length)) + log2(\n",
    "                    (U / length) ** (-U / length)) + log2((V / length) ** (-V / length)) + log2(\n",
    "                    (W / length) ** (-W / length)) + log2((Y / length) ** (-Y / length))) / log2(22))\n",
    "\n",
    "            output = str(Entry) + \",\" + str(Organism_ID) + \",\" + str(cair) + \",\" + str(length) + \",\" + str((\n",
    "                A)) + \",\" + str((C)) + \",\" + str((D)) + \",\" + str((E)) + \",\" + str((F)) + \",\" + str(\n",
    "                (G)) + \",\" + str((H)) + \",\" + str((\n",
    "                I)) + \",\" + str((K)) + \",\" + str((L)) + \",\" + str((M)) + \",\" + str((N)) + \",\" + str(\n",
    "                (O)) + \",\" + str((P)) + \",\" + str((\n",
    "                Q)) + \",\" + str((R)) + \",\" + str((S)) + \",\" + str((T)) + \",\" + str((U)) + \",\" + str(\n",
    "                (V)) + \",\" + str((W)) + \",\" + str((\n",
    "                Y)) + \"\\n\"  # Preparing the output file\n",
    "            filewrite.write(output)"
   ]
  },
  {
   "cell_type": "code",
   "execution_count": null,
   "metadata": {},
   "outputs": [],
   "source": []
  }
 ],
 "metadata": {
  "kernelspec": {
   "display_name": "Python 3",
   "language": "python",
   "name": "python3"
  },
  "language_info": {
   "codemirror_mode": {
    "name": "ipython",
    "version": 3
   },
   "file_extension": ".py",
   "mimetype": "text/x-python",
   "name": "python",
   "nbconvert_exporter": "python",
   "pygments_lexer": "ipython3",
   "version": "3.7.3"
  }
 },
 "nbformat": 4,
 "nbformat_minor": 4
}
